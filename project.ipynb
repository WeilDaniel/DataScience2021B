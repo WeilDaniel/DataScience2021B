{
  "nbformat": 4,
  "nbformat_minor": 0,
  "metadata": {
    "colab": {
      "name": "project.ipynb",
      "provenance": [],
      "collapsed_sections": []
    },
    "kernelspec": {
      "display_name": "Python 3",
      "language": "python",
      "name": "python3"
    },
    "language_info": {
      "codemirror_mode": {
        "name": "ipython",
        "version": 3
      },
      "file_extension": ".py",
      "mimetype": "text/x-python",
      "name": "python",
      "nbconvert_exporter": "python",
      "pygments_lexer": "ipython3",
      "version": "3.8.3"
    }
  },
  "cells": [
    {
      "cell_type": "markdown",
      "metadata": {
        "id": "lQrX6J6U0jLd"
      },
      "source": [
        "## final project - couses of death in the world\n",
        "### group J\n",
        "Group members:\n",
        "1. [import data](#section1)\n",
        "2. [](#section2)\n",
        "3. [](#section3)\n",
        "4. [](#section4)\n"
      ]
    },
    {
      "cell_type": "code",
      "metadata": {
        "id": "EuuxjGEQtrEe",
        "outputId": "f64eaff2-3582-422c-9f88-00a9b5fc3cb4"
      },
      "source": [
        "import pandas as pd\n",
        "import numpy as np\n",
        "import seaborn as sns\n",
        "from matplotlib import pyplot as plt\n",
        "import sklearn as sk\n",
        "from sklearn import tree\n",
        "from sklearn.tree import DecisionTreeRegressor\n",
        "from sklearn.metrics import mean_squared_error as mse\n",
        "from scipy import misc\n",
        "import plotly.graph_objs as gobj\n",
        "from IPython.display import HTML\n",
        "from plotly.offline import download_plotlyjs, init_notebook_mode, plot, iplot\n",
        "init_notebook_mode(connected=True)\n",
        "import os"
      ],
      "execution_count": null,
      "outputs": [
        {
          "output_type": "display_data",
          "data": {
            "text/html": [
              "        <script type=\"text/javascript\">\n",
              "        window.PlotlyConfig = {MathJaxConfig: 'local'};\n",
              "        if (window.MathJax) {MathJax.Hub.Config({SVG: {font: \"STIX-Web\"}});}\n",
              "        if (typeof require !== 'undefined') {\n",
              "        require.undef(\"plotly\");\n",
              "        requirejs.config({\n",
              "            paths: {\n",
              "                'plotly': ['https://cdn.plot.ly/plotly-latest.min']\n",
              "            }\n",
              "        });\n",
              "        require(['plotly'], function(Plotly) {\n",
              "            window._Plotly = Plotly;\n",
              "        });\n",
              "        }\n",
              "        </script>\n",
              "        "
            ]
          },
          "metadata": {
            "tags": []
          }
        }
      ]
    },
    {
      "cell_type": "code",
      "metadata": {
        "id": "3c6plGVxehEK"
      },
      "source": [
        ""
      ],
      "execution_count": null,
      "outputs": []
    },
    {
      "cell_type": "markdown",
      "metadata": {
        "id": "E2BrRfwF3tFo"
      },
      "source": [
        "We found our data.... "
      ]
    },
    {
      "cell_type": "code",
      "metadata": {
        "colab": {
          "base_uri": "https://localhost:8080/",
          "height": 499
        },
        "id": "L17ZA8NzvQUT",
        "outputId": "ec5d6fd6-c872-4f81-e2bd-92c18eaf03db"
      },
      "source": [
        "url='https://raw.githubusercontent.com/WeilDaniel/DataScience2021B/main/causes%20of%20death.csv'\n",
        "doc= pd.read_csv(url)\n",
        "doc[::5]"
      ],
      "execution_count": null,
      "outputs": [
        {
          "output_type": "execute_result",
          "data": {
            "text/html": [
              "<div>\n",
              "<style scoped>\n",
              "    .dataframe tbody tr th:only-of-type {\n",
              "        vertical-align: middle;\n",
              "    }\n",
              "\n",
              "    .dataframe tbody tr th {\n",
              "        vertical-align: top;\n",
              "    }\n",
              "\n",
              "    .dataframe thead th {\n",
              "        text-align: right;\n",
              "    }\n",
              "</style>\n",
              "<table border=\"1\" class=\"dataframe\">\n",
              "  <thead>\n",
              "    <tr style=\"text-align: right;\">\n",
              "      <th></th>\n",
              "      <th>Entity</th>\n",
              "      <th>Code</th>\n",
              "      <th>Year</th>\n",
              "      <th>Number of executions (Amnesty International)</th>\n",
              "      <th>Meningitis</th>\n",
              "      <th>Lower respiratory infections</th>\n",
              "      <th>Intestinal infectious diseases</th>\n",
              "      <th>Protein-energy malnutrition</th>\n",
              "      <th>Terrorism</th>\n",
              "      <th>Cardiovascular diseases</th>\n",
              "      <th>...</th>\n",
              "      <th>Neonatal disorders</th>\n",
              "      <th>Alcohol use disorders</th>\n",
              "      <th>Exposure to forces of nature</th>\n",
              "      <th>Diarrheal disease</th>\n",
              "      <th>Environmental heat and cold exposure</th>\n",
              "      <th>Nutritional deficiencies</th>\n",
              "      <th>Self-harm</th>\n",
              "      <th>Conflict and terrorism</th>\n",
              "      <th>Diabetes mellitus</th>\n",
              "      <th>Poisonings</th>\n",
              "    </tr>\n",
              "  </thead>\n",
              "  <tbody>\n",
              "    <tr>\n",
              "      <th>0</th>\n",
              "      <td>Afghanistan</td>\n",
              "      <td>AFG</td>\n",
              "      <td>1990</td>\n",
              "      <td>NaN</td>\n",
              "      <td>6469.977091</td>\n",
              "      <td>22836.91235</td>\n",
              "      <td>295.382206</td>\n",
              "      <td>1607.703797</td>\n",
              "      <td>12.0</td>\n",
              "      <td>46498.08502</td>\n",
              "      <td>...</td>\n",
              "      <td>18075.800290</td>\n",
              "      <td>75.595221</td>\n",
              "      <td>0.000000</td>\n",
              "      <td>8817.260208</td>\n",
              "      <td>226.789403</td>\n",
              "      <td>1667.386134</td>\n",
              "      <td>740.448500</td>\n",
              "      <td>1489.999290</td>\n",
              "      <td>3361.736409</td>\n",
              "      <td>170.742286</td>\n",
              "    </tr>\n",
              "    <tr>\n",
              "      <th>5</th>\n",
              "      <td>Afghanistan</td>\n",
              "      <td>AFG</td>\n",
              "      <td>1995</td>\n",
              "      <td>NaN</td>\n",
              "      <td>10122.772830</td>\n",
              "      <td>34483.55190</td>\n",
              "      <td>363.583913</td>\n",
              "      <td>2507.115188</td>\n",
              "      <td>5.0</td>\n",
              "      <td>52072.36867</td>\n",
              "      <td>...</td>\n",
              "      <td>30758.544710</td>\n",
              "      <td>91.819330</td>\n",
              "      <td>380.999985</td>\n",
              "      <td>14767.431170</td>\n",
              "      <td>118.013587</td>\n",
              "      <td>2595.907455</td>\n",
              "      <td>1065.582016</td>\n",
              "      <td>5508.000168</td>\n",
              "      <td>3665.833847</td>\n",
              "      <td>249.757440</td>\n",
              "    </tr>\n",
              "    <tr>\n",
              "      <th>10</th>\n",
              "      <td>Afghanistan</td>\n",
              "      <td>AFG</td>\n",
              "      <td>2000</td>\n",
              "      <td>NaN</td>\n",
              "      <td>9761.290717</td>\n",
              "      <td>31769.17538</td>\n",
              "      <td>358.006996</td>\n",
              "      <td>2114.510638</td>\n",
              "      <td>38.0</td>\n",
              "      <td>54523.55244</td>\n",
              "      <td>...</td>\n",
              "      <td>29562.611950</td>\n",
              "      <td>91.598058</td>\n",
              "      <td>0.000000</td>\n",
              "      <td>12938.353280</td>\n",
              "      <td>134.081689</td>\n",
              "      <td>2202.312536</td>\n",
              "      <td>1171.900184</td>\n",
              "      <td>5429.002257</td>\n",
              "      <td>4012.101851</td>\n",
              "      <td>257.354125</td>\n",
              "    </tr>\n",
              "    <tr>\n",
              "      <th>15</th>\n",
              "      <td>Afghanistan</td>\n",
              "      <td>AFG</td>\n",
              "      <td>2005</td>\n",
              "      <td>NaN</td>\n",
              "      <td>10059.371500</td>\n",
              "      <td>32720.36869</td>\n",
              "      <td>485.893244</td>\n",
              "      <td>2071.851381</td>\n",
              "      <td>367.0</td>\n",
              "      <td>54317.54190</td>\n",
              "      <td>...</td>\n",
              "      <td>30810.793890</td>\n",
              "      <td>94.548300</td>\n",
              "      <td>561.000068</td>\n",
              "      <td>12787.360150</td>\n",
              "      <td>187.399536</td>\n",
              "      <td>2176.986649</td>\n",
              "      <td>1357.231136</td>\n",
              "      <td>2078.000062</td>\n",
              "      <td>4601.599971</td>\n",
              "      <td>312.903566</td>\n",
              "    </tr>\n",
              "    <tr>\n",
              "      <th>20</th>\n",
              "      <td>Afghanistan</td>\n",
              "      <td>AFG</td>\n",
              "      <td>2010</td>\n",
              "      <td>NaN</td>\n",
              "      <td>7154.319444</td>\n",
              "      <td>23950.01729</td>\n",
              "      <td>332.253781</td>\n",
              "      <td>1541.841155</td>\n",
              "      <td>1157.0</td>\n",
              "      <td>52712.68782</td>\n",
              "      <td>...</td>\n",
              "      <td>27018.706950</td>\n",
              "      <td>102.648045</td>\n",
              "      <td>349.999997</td>\n",
              "      <td>7530.046788</td>\n",
              "      <td>151.683206</td>\n",
              "      <td>1619.355103</td>\n",
              "      <td>1457.157631</td>\n",
              "      <td>8117.000620</td>\n",
              "      <td>4825.933668</td>\n",
              "      <td>304.808594</td>\n",
              "    </tr>\n",
              "    <tr>\n",
              "      <th>...</th>\n",
              "      <td>...</td>\n",
              "      <td>...</td>\n",
              "      <td>...</td>\n",
              "      <td>...</td>\n",
              "      <td>...</td>\n",
              "      <td>...</td>\n",
              "      <td>...</td>\n",
              "      <td>...</td>\n",
              "      <td>...</td>\n",
              "      <td>...</td>\n",
              "      <td>...</td>\n",
              "      <td>...</td>\n",
              "      <td>...</td>\n",
              "      <td>...</td>\n",
              "      <td>...</td>\n",
              "      <td>...</td>\n",
              "      <td>...</td>\n",
              "      <td>...</td>\n",
              "      <td>...</td>\n",
              "      <td>...</td>\n",
              "      <td>...</td>\n",
              "    </tr>\n",
              "    <tr>\n",
              "      <th>6665</th>\n",
              "      <td>Zimbabwe</td>\n",
              "      <td>ZWE</td>\n",
              "      <td>1997</td>\n",
              "      <td>NaN</td>\n",
              "      <td>1097.174528</td>\n",
              "      <td>7735.56835</td>\n",
              "      <td>10.035450</td>\n",
              "      <td>1973.577671</td>\n",
              "      <td>NaN</td>\n",
              "      <td>11258.69582</td>\n",
              "      <td>...</td>\n",
              "      <td>7210.394169</td>\n",
              "      <td>61.658450</td>\n",
              "      <td>0.000000</td>\n",
              "      <td>3931.833317</td>\n",
              "      <td>33.858413</td>\n",
              "      <td>2013.555237</td>\n",
              "      <td>1652.696523</td>\n",
              "      <td>0.000000</td>\n",
              "      <td>1460.041977</td>\n",
              "      <td>278.080926</td>\n",
              "    </tr>\n",
              "    <tr>\n",
              "      <th>6670</th>\n",
              "      <td>Zimbabwe</td>\n",
              "      <td>ZWE</td>\n",
              "      <td>2002</td>\n",
              "      <td>NaN</td>\n",
              "      <td>1767.653406</td>\n",
              "      <td>11291.21114</td>\n",
              "      <td>14.218893</td>\n",
              "      <td>2881.673029</td>\n",
              "      <td>8.0</td>\n",
              "      <td>17727.49619</td>\n",
              "      <td>...</td>\n",
              "      <td>7750.681621</td>\n",
              "      <td>80.145281</td>\n",
              "      <td>0.000000</td>\n",
              "      <td>4269.031596</td>\n",
              "      <td>43.609980</td>\n",
              "      <td>2940.514017</td>\n",
              "      <td>2712.278043</td>\n",
              "      <td>44.000000</td>\n",
              "      <td>2401.646100</td>\n",
              "      <td>377.339700</td>\n",
              "    </tr>\n",
              "    <tr>\n",
              "      <th>6675</th>\n",
              "      <td>Zimbabwe</td>\n",
              "      <td>ZWE</td>\n",
              "      <td>2007</td>\n",
              "      <td>NaN</td>\n",
              "      <td>2088.771088</td>\n",
              "      <td>13111.75994</td>\n",
              "      <td>20.388660</td>\n",
              "      <td>3432.021086</td>\n",
              "      <td>0.0</td>\n",
              "      <td>18419.72300</td>\n",
              "      <td>...</td>\n",
              "      <td>9444.556913</td>\n",
              "      <td>81.770475</td>\n",
              "      <td>15.000000</td>\n",
              "      <td>4593.929957</td>\n",
              "      <td>47.481956</td>\n",
              "      <td>3492.654040</td>\n",
              "      <td>2881.479418</td>\n",
              "      <td>5.000000</td>\n",
              "      <td>2627.757658</td>\n",
              "      <td>409.296962</td>\n",
              "    </tr>\n",
              "    <tr>\n",
              "      <th>6680</th>\n",
              "      <td>Zimbabwe</td>\n",
              "      <td>ZWE</td>\n",
              "      <td>2012</td>\n",
              "      <td>NaN</td>\n",
              "      <td>1880.353473</td>\n",
              "      <td>13451.04812</td>\n",
              "      <td>25.073388</td>\n",
              "      <td>3628.206524</td>\n",
              "      <td>NaN</td>\n",
              "      <td>17217.56878</td>\n",
              "      <td>...</td>\n",
              "      <td>9777.704416</td>\n",
              "      <td>74.447424</td>\n",
              "      <td>0.000000</td>\n",
              "      <td>5302.873034</td>\n",
              "      <td>45.756749</td>\n",
              "      <td>3680.644884</td>\n",
              "      <td>2593.584660</td>\n",
              "      <td>10.000000</td>\n",
              "      <td>2596.124445</td>\n",
              "      <td>415.498967</td>\n",
              "    </tr>\n",
              "    <tr>\n",
              "      <th>6685</th>\n",
              "      <td>Zimbabwe</td>\n",
              "      <td>ZWE</td>\n",
              "      <td>2017</td>\n",
              "      <td>NaN</td>\n",
              "      <td>1677.007331</td>\n",
              "      <td>12369.65470</td>\n",
              "      <td>NaN</td>\n",
              "      <td>3111.873502</td>\n",
              "      <td>0.0</td>\n",
              "      <td>16976.90237</td>\n",
              "      <td>...</td>\n",
              "      <td>8411.915534</td>\n",
              "      <td>77.192339</td>\n",
              "      <td>0.000000</td>\n",
              "      <td>4602.593760</td>\n",
              "      <td>41.433611</td>\n",
              "      <td>3157.591804</td>\n",
              "      <td>2647.468528</td>\n",
              "      <td>5.000000</td>\n",
              "      <td>2746.739645</td>\n",
              "      <td>405.377266</td>\n",
              "    </tr>\n",
              "  </tbody>\n",
              "</table>\n",
              "<p>1338 rows × 37 columns</p>\n",
              "</div>"
            ],
            "text/plain": [
              "           Entity Code  Year Number of executions (Amnesty International)  \\\n",
              "0     Afghanistan  AFG  1990                                          NaN   \n",
              "5     Afghanistan  AFG  1995                                          NaN   \n",
              "10    Afghanistan  AFG  2000                                          NaN   \n",
              "15    Afghanistan  AFG  2005                                          NaN   \n",
              "20    Afghanistan  AFG  2010                                          NaN   \n",
              "...           ...  ...   ...                                          ...   \n",
              "6665     Zimbabwe  ZWE  1997                                          NaN   \n",
              "6670     Zimbabwe  ZWE  2002                                          NaN   \n",
              "6675     Zimbabwe  ZWE  2007                                          NaN   \n",
              "6680     Zimbabwe  ZWE  2012                                          NaN   \n",
              "6685     Zimbabwe  ZWE  2017                                          NaN   \n",
              "\n",
              "        Meningitis   Lower respiratory infections   \\\n",
              "0      6469.977091                     22836.91235   \n",
              "5     10122.772830                     34483.55190   \n",
              "10     9761.290717                     31769.17538   \n",
              "15    10059.371500                     32720.36869   \n",
              "20     7154.319444                     23950.01729   \n",
              "...            ...                             ...   \n",
              "6665   1097.174528                      7735.56835   \n",
              "6670   1767.653406                     11291.21114   \n",
              "6675   2088.771088                     13111.75994   \n",
              "6680   1880.353473                     13451.04812   \n",
              "6685   1677.007331                     12369.65470   \n",
              "\n",
              "      Intestinal infectious diseases   Protein-energy malnutrition   \\\n",
              "0                         295.382206                    1607.703797   \n",
              "5                         363.583913                    2507.115188   \n",
              "10                        358.006996                    2114.510638   \n",
              "15                        485.893244                    2071.851381   \n",
              "20                        332.253781                    1541.841155   \n",
              "...                              ...                            ...   \n",
              "6665                       10.035450                    1973.577671   \n",
              "6670                       14.218893                    2881.673029   \n",
              "6675                       20.388660                    3432.021086   \n",
              "6680                       25.073388                    3628.206524   \n",
              "6685                             NaN                    3111.873502   \n",
              "\n",
              "      Terrorism  Cardiovascular diseases  ...   Neonatal disorders  \\\n",
              "0          12.0              46498.08502  ...         18075.800290   \n",
              "5           5.0              52072.36867  ...         30758.544710   \n",
              "10         38.0              54523.55244  ...         29562.611950   \n",
              "15        367.0              54317.54190  ...         30810.793890   \n",
              "20       1157.0              52712.68782  ...         27018.706950   \n",
              "...         ...                      ...  ...                  ...   \n",
              "6665        NaN              11258.69582  ...          7210.394169   \n",
              "6670        8.0              17727.49619  ...          7750.681621   \n",
              "6675        0.0              18419.72300  ...          9444.556913   \n",
              "6680        NaN              17217.56878  ...          9777.704416   \n",
              "6685        0.0              16976.90237  ...          8411.915534   \n",
              "\n",
              "       Alcohol use disorders   Exposure to forces of nature  \\\n",
              "0                  75.595221                       0.000000   \n",
              "5                  91.819330                     380.999985   \n",
              "10                 91.598058                       0.000000   \n",
              "15                 94.548300                     561.000068   \n",
              "20                102.648045                     349.999997   \n",
              "...                      ...                            ...   \n",
              "6665               61.658450                       0.000000   \n",
              "6670               80.145281                       0.000000   \n",
              "6675               81.770475                      15.000000   \n",
              "6680               74.447424                       0.000000   \n",
              "6685               77.192339                       0.000000   \n",
              "\n",
              "      Diarrheal disease  Environmental heat and cold exposure  \\\n",
              "0           8817.260208                            226.789403   \n",
              "5          14767.431170                            118.013587   \n",
              "10         12938.353280                            134.081689   \n",
              "15         12787.360150                            187.399536   \n",
              "20          7530.046788                            151.683206   \n",
              "...                 ...                                   ...   \n",
              "6665        3931.833317                             33.858413   \n",
              "6670        4269.031596                             43.609980   \n",
              "6675        4593.929957                             47.481956   \n",
              "6680        5302.873034                             45.756749   \n",
              "6685        4602.593760                             41.433611   \n",
              "\n",
              "      Nutritional deficiencies    Self-harm  Conflict and terrorism  \\\n",
              "0                  1667.386134   740.448500             1489.999290   \n",
              "5                  2595.907455  1065.582016             5508.000168   \n",
              "10                 2202.312536  1171.900184             5429.002257   \n",
              "15                 2176.986649  1357.231136             2078.000062   \n",
              "20                 1619.355103  1457.157631             8117.000620   \n",
              "...                        ...          ...                     ...   \n",
              "6665               2013.555237  1652.696523                0.000000   \n",
              "6670               2940.514017  2712.278043               44.000000   \n",
              "6675               3492.654040  2881.479418                5.000000   \n",
              "6680               3680.644884  2593.584660               10.000000   \n",
              "6685               3157.591804  2647.468528                5.000000   \n",
              "\n",
              "      Diabetes mellitus  Poisonings  \n",
              "0           3361.736409  170.742286  \n",
              "5           3665.833847  249.757440  \n",
              "10          4012.101851  257.354125  \n",
              "15          4601.599971  312.903566  \n",
              "20          4825.933668  304.808594  \n",
              "...                 ...         ...  \n",
              "6665        1460.041977  278.080926  \n",
              "6670        2401.646100  377.339700  \n",
              "6675        2627.757658  409.296962  \n",
              "6680        2596.124445  415.498967  \n",
              "6685        2746.739645  405.377266  \n",
              "\n",
              "[1338 rows x 37 columns]"
            ]
          },
          "metadata": {
            "tags": []
          },
          "execution_count": 2
        }
      ]
    },
    {
      "cell_type": "markdown",
      "metadata": {
        "id": "TI0wqUR8lBT4"
      },
      "source": [
        "יצרנו טבלה שסוכמת את גורמי המוות לפי שנים"
      ]
    },
    {
      "cell_type": "code",
      "metadata": {
        "colab": {
          "base_uri": "https://localhost:8080/",
          "height": 318
        },
        "id": "NEGbTGlJlNz4",
        "outputId": "6892268a-91f3-4f20-8582-f97051a206ef"
      },
      "source": [
        "new_doc= doc.copy()\n",
        "year13 = new_doc.loc[2013 <= new_doc['Year']]\n",
        "summ = year13.sum(axis = 0, skipna = True)#.round(decimals=0)\n",
        "ww = pd.DataFrame(summ)\n",
        "features = ww.iloc[:,4:]#.round(decimals=2)\n",
        "table = year13.pivot_table(columns=features,index='Year') \n",
        "table"
      ],
      "execution_count": null,
      "outputs": [
        {
          "output_type": "execute_result",
          "data": {
            "text/html": [
              "<div>\n",
              "<style scoped>\n",
              "    .dataframe tbody tr th:only-of-type {\n",
              "        vertical-align: middle;\n",
              "    }\n",
              "\n",
              "    .dataframe tbody tr th {\n",
              "        vertical-align: top;\n",
              "    }\n",
              "\n",
              "    .dataframe thead th {\n",
              "        text-align: right;\n",
              "    }\n",
              "</style>\n",
              "<table border=\"1\" class=\"dataframe\">\n",
              "  <thead>\n",
              "    <tr style=\"text-align: right;\">\n",
              "      <th></th>\n",
              "      <th>Alcohol use disorders</th>\n",
              "      <th>Alzheimer disease and other dementias</th>\n",
              "      <th>Chronic kidney disease</th>\n",
              "      <th>Cirrhosis and other chronic liver diseases</th>\n",
              "      <th>Exposure to forces of nature</th>\n",
              "      <th>Lower respiratory infections</th>\n",
              "      <th>Meningitis</th>\n",
              "      <th>Neonatal disorders</th>\n",
              "      <th>Protein-energy malnutrition</th>\n",
              "      <th>Cardiovascular diseases</th>\n",
              "      <th>...</th>\n",
              "      <th>Malaria</th>\n",
              "      <th>Maternal disorders</th>\n",
              "      <th>Neoplasms</th>\n",
              "      <th>Nutritional deficiencies</th>\n",
              "      <th>Parkinson disease</th>\n",
              "      <th>Poisonings</th>\n",
              "      <th>Road injuries</th>\n",
              "      <th>Self-harm</th>\n",
              "      <th>Terrorism</th>\n",
              "      <th>Tuberculosis</th>\n",
              "    </tr>\n",
              "    <tr>\n",
              "      <th>Year</th>\n",
              "      <th></th>\n",
              "      <th></th>\n",
              "      <th></th>\n",
              "      <th></th>\n",
              "      <th></th>\n",
              "      <th></th>\n",
              "      <th></th>\n",
              "      <th></th>\n",
              "      <th></th>\n",
              "      <th></th>\n",
              "      <th></th>\n",
              "      <th></th>\n",
              "      <th></th>\n",
              "      <th></th>\n",
              "      <th></th>\n",
              "      <th></th>\n",
              "      <th></th>\n",
              "      <th></th>\n",
              "      <th></th>\n",
              "      <th></th>\n",
              "      <th></th>\n",
              "    </tr>\n",
              "  </thead>\n",
              "  <tbody>\n",
              "    <tr>\n",
              "      <th>2013</th>\n",
              "      <td>3583.231677</td>\n",
              "      <td>45966.643667</td>\n",
              "      <td>22702.118404</td>\n",
              "      <td>25156.077762</td>\n",
              "      <td>377.638586</td>\n",
              "      <td>52744.579404</td>\n",
              "      <td>6312.601778</td>\n",
              "      <td>40139.855568</td>\n",
              "      <td>5387.484322</td>\n",
              "      <td>335055.824552</td>\n",
              "      <td>...</td>\n",
              "      <td>15090.780152</td>\n",
              "      <td>4214.556185</td>\n",
              "      <td>181004.732345</td>\n",
              "      <td>6129.916221</td>\n",
              "      <td>6303.783592</td>\n",
              "      <td>1563.585157</td>\n",
              "      <td>25547.103048</td>\n",
              "      <td>15756.961927</td>\n",
              "      <td>618.694444</td>\n",
              "      <td>24494.066337</td>\n",
              "    </tr>\n",
              "    <tr>\n",
              "      <th>2014</th>\n",
              "      <td>3638.468231</td>\n",
              "      <td>47738.798540</td>\n",
              "      <td>23399.781820</td>\n",
              "      <td>25528.564353</td>\n",
              "      <td>131.333134</td>\n",
              "      <td>52591.312424</td>\n",
              "      <td>6215.461083</td>\n",
              "      <td>38997.597062</td>\n",
              "      <td>5215.160092</td>\n",
              "      <td>341998.224859</td>\n",
              "      <td>...</td>\n",
              "      <td>14761.738250</td>\n",
              "      <td>4094.588467</td>\n",
              "      <td>186014.351176</td>\n",
              "      <td>5952.833885</td>\n",
              "      <td>6500.254753</td>\n",
              "      <td>1555.128367</td>\n",
              "      <td>25446.749491</td>\n",
              "      <td>15810.282741</td>\n",
              "      <td>1181.150442</td>\n",
              "      <td>24150.528992</td>\n",
              "    </tr>\n",
              "    <tr>\n",
              "      <th>2015</th>\n",
              "      <td>3736.048858</td>\n",
              "      <td>49838.287145</td>\n",
              "      <td>24183.791158</td>\n",
              "      <td>26025.074377</td>\n",
              "      <td>269.670765</td>\n",
              "      <td>52711.489952</td>\n",
              "      <td>6070.643561</td>\n",
              "      <td>37789.540920</td>\n",
              "      <td>5088.336280</td>\n",
              "      <td>352559.776514</td>\n",
              "      <td>...</td>\n",
              "      <td>14048.590244</td>\n",
              "      <td>3970.746319</td>\n",
              "      <td>192321.906693</td>\n",
              "      <td>5824.763238</td>\n",
              "      <td>6749.957690</td>\n",
              "      <td>1554.843760</td>\n",
              "      <td>25291.629627</td>\n",
              "      <td>15857.792472</td>\n",
              "      <td>1040.705357</td>\n",
              "      <td>23874.502215</td>\n",
              "    </tr>\n",
              "    <tr>\n",
              "      <th>2016</th>\n",
              "      <td>3801.286010</td>\n",
              "      <td>51644.396070</td>\n",
              "      <td>24817.780257</td>\n",
              "      <td>26542.221576</td>\n",
              "      <td>148.727130</td>\n",
              "      <td>52635.206372</td>\n",
              "      <td>6022.485398</td>\n",
              "      <td>36416.983083</td>\n",
              "      <td>4946.240099</td>\n",
              "      <td>360266.097406</td>\n",
              "      <td>...</td>\n",
              "      <td>13264.957167</td>\n",
              "      <td>3906.979340</td>\n",
              "      <td>197231.305569</td>\n",
              "      <td>5677.691024</td>\n",
              "      <td>6954.014414</td>\n",
              "      <td>1539.692172</td>\n",
              "      <td>25242.317113</td>\n",
              "      <td>15962.336538</td>\n",
              "      <td>864.570248</td>\n",
              "      <td>23652.201168</td>\n",
              "    </tr>\n",
              "    <tr>\n",
              "      <th>2017</th>\n",
              "      <td>3867.345967</td>\n",
              "      <td>53197.221096</td>\n",
              "      <td>25077.611968</td>\n",
              "      <td>27028.720519</td>\n",
              "      <td>192.250024</td>\n",
              "      <td>52373.629121</td>\n",
              "      <td>5867.637181</td>\n",
              "      <td>35105.258189</td>\n",
              "      <td>4856.276278</td>\n",
              "      <td>365604.748114</td>\n",
              "      <td>...</td>\n",
              "      <td>13144.345112</td>\n",
              "      <td>3858.269814</td>\n",
              "      <td>200341.583866</td>\n",
              "      <td>5583.253072</td>\n",
              "      <td>7120.136748</td>\n",
              "      <td>1513.030507</td>\n",
              "      <td>25043.691721</td>\n",
              "      <td>16061.981372</td>\n",
              "      <td>689.869565</td>\n",
              "      <td>23327.990827</td>\n",
              "    </tr>\n",
              "  </tbody>\n",
              "</table>\n",
              "<p>5 rows × 33 columns</p>\n",
              "</div>"
            ],
            "text/plain": [
              "       Alcohol use disorders   Alzheimer disease and other dementias   \\\n",
              "Year                                                                    \n",
              "2013             3583.231677                             45966.643667   \n",
              "2014             3638.468231                             47738.798540   \n",
              "2015             3736.048858                             49838.287145   \n",
              "2016             3801.286010                             51644.396070   \n",
              "2017             3867.345967                             53197.221096   \n",
              "\n",
              "       Chronic kidney disease    Cirrhosis and other chronic liver diseases   \\\n",
              "Year                                                                           \n",
              "2013              22702.118404                                  25156.077762   \n",
              "2014              23399.781820                                  25528.564353   \n",
              "2015              24183.791158                                  26025.074377   \n",
              "2016              24817.780257                                  26542.221576   \n",
              "2017              25077.611968                                  27028.720519   \n",
              "\n",
              "       Exposure to forces of nature   Lower respiratory infections   \\\n",
              "Year                                                                  \n",
              "2013                     377.638586                    52744.579404   \n",
              "2014                     131.333134                    52591.312424   \n",
              "2015                     269.670765                    52711.489952   \n",
              "2016                     148.727130                    52635.206372   \n",
              "2017                     192.250024                    52373.629121   \n",
              "\n",
              "       Meningitis   Neonatal disorders   Protein-energy malnutrition   \\\n",
              "Year                                                                    \n",
              "2013  6312.601778         40139.855568                    5387.484322   \n",
              "2014  6215.461083         38997.597062                    5215.160092   \n",
              "2015  6070.643561         37789.540920                    5088.336280   \n",
              "2016  6022.485398         36416.983083                    4946.240099   \n",
              "2017  5867.637181         35105.258189                    4856.276278   \n",
              "\n",
              "      Cardiovascular diseases  ...       Malaria  Maternal disorders  \\\n",
              "Year                           ...                                     \n",
              "2013            335055.824552  ...  15090.780152         4214.556185   \n",
              "2014            341998.224859  ...  14761.738250         4094.588467   \n",
              "2015            352559.776514  ...  14048.590244         3970.746319   \n",
              "2016            360266.097406  ...  13264.957167         3906.979340   \n",
              "2017            365604.748114  ...  13144.345112         3858.269814   \n",
              "\n",
              "          Neoplasms  Nutritional deficiencies  Parkinson disease   Poisonings  \\\n",
              "Year                                                                            \n",
              "2013  181004.732345               6129.916221        6303.783592  1563.585157   \n",
              "2014  186014.351176               5952.833885        6500.254753  1555.128367   \n",
              "2015  192321.906693               5824.763238        6749.957690  1554.843760   \n",
              "2016  197231.305569               5677.691024        6954.014414  1539.692172   \n",
              "2017  200341.583866               5583.253072        7120.136748  1513.030507   \n",
              "\n",
              "      Road injuries     Self-harm    Terrorism  Tuberculosis  \n",
              "Year                                                          \n",
              "2013   25547.103048  15756.961927   618.694444  24494.066337  \n",
              "2014   25446.749491  15810.282741  1181.150442  24150.528992  \n",
              "2015   25291.629627  15857.792472  1040.705357  23874.502215  \n",
              "2016   25242.317113  15962.336538   864.570248  23652.201168  \n",
              "2017   25043.691721  16061.981372   689.869565  23327.990827  \n",
              "\n",
              "[5 rows x 33 columns]"
            ]
          },
          "metadata": {
            "tags": []
          },
          "execution_count": 3
        }
      ]
    },
    {
      "cell_type": "markdown",
      "metadata": {
        "id": "V_jyR1BNnzDI"
      },
      "source": [
        "חמשת גורמי המוות הנפוצים ביותר בחמש שנים האחרונות"
      ]
    },
    {
      "cell_type": "code",
      "metadata": {
        "colab": {
          "base_uri": "https://localhost:8080/",
          "height": 383
        },
        "id": "_VmzQoB9na-H",
        "outputId": "35a7654a-6fe4-400e-ff9d-41655e72a65f"
      },
      "source": [
        "table1 = table.sum(axis = 0, skipna = True)\n",
        "maxx = table1.nlargest(5)\n",
        "minn = table1.nsmallest(5)\n",
        "df1 = pd.DataFrame(maxx)\n",
        "df2 = pd.DataFrame(minn)\n",
        "df = df1.style.set_caption(' The Top 5 ')\n",
        "dff = df2.style.set_caption('The Lowest 5 ')\n",
        "\n",
        "display(df,dff)\n"
      ],
      "execution_count": null,
      "outputs": [
        {
          "output_type": "display_data",
          "data": {
            "text/html": [
              "<style  type=\"text/css\" >\n",
              "</style><table id=\"T_fc90db48_bccc_11eb_955c_9226b23f7503\" ><caption> The Top 5 </caption><thead>    <tr>        <th class=\"blank level0\" ></th>        <th class=\"col_heading level0 col0\" >0</th>    </tr></thead><tbody>\n",
              "                <tr>\n",
              "                        <th id=\"T_fc90db48_bccc_11eb_955c_9226b23f7503level0_row0\" class=\"row_heading level0 row0\" >Cardiovascular diseases</th>\n",
              "                        <td id=\"T_fc90db48_bccc_11eb_955c_9226b23f7503row0_col0\" class=\"data row0 col0\" >856500.021055</td>\n",
              "            </tr>\n",
              "            <tr>\n",
              "                        <th id=\"T_fc90db48_bccc_11eb_955c_9226b23f7503level0_row1\" class=\"row_heading level0 row1\" >Neoplasms</th>\n",
              "                        <td id=\"T_fc90db48_bccc_11eb_955c_9226b23f7503row1_col0\" class=\"data row1 col0\" >438863.453957</td>\n",
              "            </tr>\n",
              "            <tr>\n",
              "                        <th id=\"T_fc90db48_bccc_11eb_955c_9226b23f7503level0_row2\" class=\"row_heading level0 row2\" >Chronic respiratory diseases</th>\n",
              "                        <td id=\"T_fc90db48_bccc_11eb_955c_9226b23f7503row2_col0\" class=\"data row2 col0\" >210071.636653</td>\n",
              "            </tr>\n",
              "            <tr>\n",
              "                        <th id=\"T_fc90db48_bccc_11eb_955c_9226b23f7503level0_row3\" class=\"row_heading level0 row3\" > Lower respiratory infections </th>\n",
              "                        <td id=\"T_fc90db48_bccc_11eb_955c_9226b23f7503row3_col0\" class=\"data row3 col0\" >182337.762720</td>\n",
              "            </tr>\n",
              "            <tr>\n",
              "                        <th id=\"T_fc90db48_bccc_11eb_955c_9226b23f7503level0_row4\" class=\"row_heading level0 row4\" > Neonatal disorders</th>\n",
              "                        <td id=\"T_fc90db48_bccc_11eb_955c_9226b23f7503row4_col0\" class=\"data row4 col0\" >152897.711377</td>\n",
              "            </tr>\n",
              "    </tbody></table>"
            ],
            "text/plain": [
              "<pandas.io.formats.style.Styler at 0x1ce03bb5190>"
            ]
          },
          "metadata": {
            "tags": []
          }
        },
        {
          "output_type": "display_data",
          "data": {
            "text/html": [
              "<style  type=\"text/css\" >\n",
              "</style><table id=\"T_fc914fd6_bccc_11eb_888e_9226b23f7503\" ><caption>The Lowest 5 </caption><thead>    <tr>        <th class=\"blank level0\" ></th>        <th class=\"col_heading level0 col0\" >0</th>    </tr></thead><tbody>\n",
              "                <tr>\n",
              "                        <th id=\"T_fc914fd6_bccc_11eb_888e_9226b23f7503level0_row0\" class=\"row_heading level0 row0\" >Terrorism</th>\n",
              "                        <td id=\"T_fc914fd6_bccc_11eb_888e_9226b23f7503row0_col0\" class=\"data row0 col0\" >609.968717</td>\n",
              "            </tr>\n",
              "            <tr>\n",
              "                        <th id=\"T_fc914fd6_bccc_11eb_888e_9226b23f7503level0_row1\" class=\"row_heading level0 row1\" >Poisonings</th>\n",
              "                        <td id=\"T_fc914fd6_bccc_11eb_888e_9226b23f7503row1_col0\" class=\"data row1 col0\" >4901.630446</td>\n",
              "            </tr>\n",
              "            <tr>\n",
              "                        <th id=\"T_fc914fd6_bccc_11eb_888e_9226b23f7503level0_row2\" class=\"row_heading level0 row2\" >Environmental heat and cold exposure</th>\n",
              "                        <td id=\"T_fc914fd6_bccc_11eb_888e_9226b23f7503row2_col0\" class=\"data row2 col0\" >5026.617528</td>\n",
              "            </tr>\n",
              "            <tr>\n",
              "                        <th id=\"T_fc914fd6_bccc_11eb_888e_9226b23f7503level0_row3\" class=\"row_heading level0 row3\" >Conflict and terrorism</th>\n",
              "                        <td id=\"T_fc914fd6_bccc_11eb_888e_9226b23f7503row3_col0\" class=\"data row3 col0\" >5645.803215</td>\n",
              "            </tr>\n",
              "            <tr>\n",
              "                        <th id=\"T_fc914fd6_bccc_11eb_888e_9226b23f7503level0_row4\" class=\"row_heading level0 row4\" >Drug use disorders</th>\n",
              "                        <td id=\"T_fc914fd6_bccc_11eb_888e_9226b23f7503row4_col0\" class=\"data row4 col0\" >6054.729390</td>\n",
              "            </tr>\n",
              "    </tbody></table>"
            ],
            "text/plain": [
              "<pandas.io.formats.style.Styler at 0x1ce03b8ed30>"
            ]
          },
          "metadata": {
            "tags": []
          }
        }
      ]
    },
    {
      "cell_type": "code",
      "metadata": {
        "id": "x6Az6f6fMaTm"
      },
      "source": [
        "countries = new_doc.pivot_table(columns=features,index='Year') \n"
      ],
      "execution_count": null,
      "outputs": []
    },
    {
      "cell_type": "markdown",
      "metadata": {
        "id": "M4I_2KVqnCdC"
      },
      "source": [
        "ניסינו לראות בגרף את העליה והירידהשל שלושת גורמי המוות הגדולים ביותר "
      ]
    },
    {
      "cell_type": "code",
      "metadata": {
        "colab": {
          "base_uri": "https://localhost:8080/",
          "height": 203
        },
        "id": "EygGDODOeh6i",
        "outputId": "255c4cd1-792d-4b65-ba21-2a70d7c31f29"
      },
      "source": [
        "liberia_mal = countries.loc[:,['Cardiovascular diseases']]\n",
        "#liberia_mal\n",
        "congo_mal = countries.loc[:,['Neoplasms']]\n",
        "#congo_mal\n",
        "#senegal_mal = countries.loc[:,['Meningitis']]\n",
        "#senegal_mal\n",
        "#sns.scatterplot(data=congo_mal , x='Year', y='Malaria')\n",
        "#m = countries.index['Year']\n",
        "#ax1 = liberia_mal.plot(kind='scatter', x= m, y='Cardiovascular diseases', color='r')    \n",
        "#ax2 = congo_mal.plot(kind='scatter', inde='Year', y='Neoplasms', color='g', ax=ax1)    \n",
        "#ax3 = senegal_mal.plot(kind='scatter', x='Year', y='Chronic respiratory disease', color='b', ax=ax1)\n",
        "\n",
        "#print(ax1)\n",
        "liberia_mal\n",
        "x1 =  liberia_mal.plot(kind='scatter', x=loc[:] , y='Cardiovascular diseases', color='r')"
      ],
      "execution_count": null,
      "outputs": [
        {
          "output_type": "error",
          "ename": "NameError",
          "evalue": "name 'loc' is not defined",
          "traceback": [
            "\u001b[1;31m---------------------------------------------------------------------------\u001b[0m",
            "\u001b[1;31mNameError\u001b[0m                                 Traceback (most recent call last)",
            "\u001b[1;32m<ipython-input-42-dcb999f9e112>\u001b[0m in \u001b[0;36m<module>\u001b[1;34m\u001b[0m\n\u001b[0;32m     13\u001b[0m \u001b[1;31m#print(ax1)\u001b[0m\u001b[1;33m\u001b[0m\u001b[1;33m\u001b[0m\u001b[1;33m\u001b[0m\u001b[0m\n\u001b[0;32m     14\u001b[0m \u001b[0mliberia_mal\u001b[0m\u001b[1;33m\u001b[0m\u001b[1;33m\u001b[0m\u001b[0m\n\u001b[1;32m---> 15\u001b[1;33m \u001b[0mx1\u001b[0m \u001b[1;33m=\u001b[0m  \u001b[0mliberia_mal\u001b[0m\u001b[1;33m.\u001b[0m\u001b[0mplot\u001b[0m\u001b[1;33m(\u001b[0m\u001b[0mkind\u001b[0m\u001b[1;33m=\u001b[0m\u001b[1;34m'scatter'\u001b[0m\u001b[1;33m,\u001b[0m \u001b[0mx\u001b[0m\u001b[1;33m=\u001b[0m\u001b[0mloc\u001b[0m\u001b[1;33m[\u001b[0m\u001b[1;33m:\u001b[0m\u001b[1;33m]\u001b[0m \u001b[1;33m,\u001b[0m \u001b[0my\u001b[0m\u001b[1;33m=\u001b[0m\u001b[1;34m'Cardiovascular diseases'\u001b[0m\u001b[1;33m,\u001b[0m \u001b[0mcolor\u001b[0m\u001b[1;33m=\u001b[0m\u001b[1;34m'r'\u001b[0m\u001b[1;33m)\u001b[0m\u001b[1;33m\u001b[0m\u001b[1;33m\u001b[0m\u001b[0m\n\u001b[0m",
            "\u001b[1;31mNameError\u001b[0m: name 'loc' is not defined"
          ]
        }
      ]
    },
    {
      "cell_type": "markdown",
      "metadata": {
        "id": "T5JayQeJRmej"
      },
      "source": [
        "מדינות אפריקאיות עם מלריה לאורך השנים - מנסים להראות דמיון בין הגרפים (יחסית לגודל אוכלוסייה) ואולי גם הופעות נוספות"
      ]
    },
    {
      "cell_type": "code",
      "metadata": {
        "id": "4PTABguiehER",
        "outputId": "7be76f16-7ebb-47fc-b54e-00482826dd1f"
      },
      "source": [
        "new_doc= doc.copy()\n",
        "year = new_doc.loc[ new_doc['Year'] % 10 == 0]\n",
        "summ = year.sum(axis = 0, skipna = True)#.round(decimals=0)\n",
        "ww = pd.DataFrame(summ)\n",
        "features = ww.iloc[:,4:]#.round(decimals=2)\n",
        "table = year.pivot_table(columns=features,index='Year') \n",
        "df2 = pd.DataFrame(table, columns=['Cardiovascular diseases','Neoplasms','Chronic respiratory diseases'])\n",
        "df2.plot.bar()"
      ],
      "execution_count": null,
      "outputs": [
        {
          "output_type": "execute_result",
          "data": {
            "text/plain": [
              "<matplotlib.axes._subplots.AxesSubplot at 0x1ce02af1460>"
            ]
          },
          "metadata": {
            "tags": []
          },
          "execution_count": 45
        },
        {
          "output_type": "display_data",
          "data": {
            "image/png": "[encoded data removed]",
            "text/plain": [
              "<Figure size 432x288 with 1 Axes>"
            ]
          },
          "metadata": {
            "tags": [],
            "needs_background": "light"
          }
        }
      ]
    },
    {
      "cell_type": "code",
      "metadata": {
        "colab": {
          "base_uri": "https://localhost:8080/",
          "height": 297
        },
        "id": "xvkPkgZ78wtS",
        "outputId": "6b9b3890-e2e2-44ab-ab85-27b974309be7"
      },
      "source": [
        "#vac_url[vac_url['location'].str.contains('Switzerland')]\n",
        "liberia_mal = doc.loc[3366:3393,['Year','Malaria']]\n",
        "#liberia_mal\n",
        "congo_mal = doc.loc[1419:1446,['Year','Malaria']]\n",
        "#congo_mal\n",
        "senegal_mal = doc.loc[5081:5108,['Year','Malaria']]\n",
        "#senegal_mal\n",
        "#sns.scatterplot(data=congo_mal , x='Year', y='Malaria')\n",
        "\n",
        "ax1 = liberia_mal.plot(kind='scatter', x='Year', y='Malaria', color='r')    \n",
        "ax2 = congo_mal.plot(kind='scatter', x='Year', y='Malaria', color='g', ax=ax1)    \n",
        "ax3 = senegal_mal.plot(kind='scatter', x='Year', y='Malaria', color='b', ax=ax1)\n",
        "\n",
        "print(ax1 == ax2 == ax3)   "
      ],
      "execution_count": null,
      "outputs": [
        {
          "output_type": "stream",
          "text": [
            "True\n"
          ],
          "name": "stdout"
        },
        {
          "output_type": "display_data",
          "data": {
            "image/png": "[encoded data removed]",
            "text/plain": [
              "<Figure size 432x288 with 1 Axes>"
            ]
          },
          "metadata": {
            "tags": [],
            "needs_background": "light"
          }
        }
      ]
    },
    {
      "cell_type": "code",
      "metadata": {
        "colab": {
          "base_uri": "https://localhost:8080/",
          "height": 297
        },
        "id": "Az36Wiy3LfC6",
        "jupyter": {
          "source_hidden": true
        },
        "outputId": "b24580f9-4df7-4911-9b62-c9bd6f61e654"
      },
      "source": [
        "sweden_car = doc.loc[5728:5755,['Year','Cardiovascular diseases']]\n",
        "#sweden_car\n",
        "switzerland_car = doc.loc[5756:5783,['Year','Cardiovascular diseases']]\n",
        "#switzerland_car\n",
        "portugal_car = doc.loc[4744:4771,['Year','Cardiovascular diseases']]\n",
        "#portugal_car\n",
        "#sns.scatterplot(data=congo_mal , x='Year', y='Malaria')\n",
        "\n",
        "ax1 = sweden_car.plot(kind='scatter', x='Year', y='Cardiovascular diseases', color='r')    \n",
        "ax2 = switzerland_car.plot(kind='scatter', x='Year', y='Cardiovascular diseases', color='g', ax=ax1)    \n",
        "ax3 = portugal_car.plot(kind='scatter', x='Year', y='Cardiovascular diseases', color='b', ax=ax1)\n",
        "\n",
        "print(ax1 == ax2 == ax3)   "
      ],
      "execution_count": null,
      "outputs": [
        {
          "output_type": "stream",
          "text": [
            "True\n"
          ],
          "name": "stdout"
        },
        {
          "output_type": "display_data",
          "data": {
            "image/png": "[encoded data removed]",
            "text/plain": [
              "<Figure size 432x288 with 1 Axes>"
            ]
          },
          "metadata": {
            "tags": [],
            "needs_background": "light"
          }
        }
      ]
    },
    {
      "cell_type": "code",
      "metadata": {
        "id": "BDGWpSGKehET"
      },
      "source": [
        "df = pd.DataFrame(np.random.randn(1000, 4), index=ts.index, columns=list(\"ABCD\"))\n",
        "\n",
        "In [7]: df = df.cumsum()\n",
        "\n",
        "In [8]: plt.figure();\n",
        "\n",
        "In [9]: df.plot();\n"
      ],
      "execution_count": null,
      "outputs": []
    },
    {
      "cell_type": "markdown",
      "metadata": {
        "id": "PEuhoUr3oekM"
      },
      "source": [
        "ניסיון"
      ]
    },
    {
      "cell_type": "code",
      "metadata": {
        "id": "PwlfXwYZWgu2"
      },
      "source": [
        "sweden_car = doc.loc[:,['Year','Cardiovascular diseases']]\n",
        "#sweden_car\n",
        "switzerland_car = doc.loc[:,['Year','Cardiovascular diseases']]\n",
        "#switzerland_car\n",
        "portugal_car = doc.loc[:,['Year','Cardiovascular diseases']]\n",
        "#portugal_car\n",
        "#sns.scatterplot(data=congo_mal , x='Year', y='Malaria')\n",
        "\n",
        "ax1 = sweden_car.plot(kind='scatter', x='Year', y='Cardiovascular diseases', color='r')    \n",
        "#ax2 = switzerland_car.plot(kind='scatter', x='Year', y='Cardiovascular diseases', color='g', ax=ax1)    \n",
        "#ax3 = portugal_car.plot(kind='scatter', x='Year', y='Cardiovascular diseases', color='b', ax=ax1)\n",
        "\n",
        "#print(ax1 == ax2 == ax3) \n",
        "ax1 "
      ],
      "execution_count": null,
      "outputs": []
    },
    {
      "cell_type": "code",
      "metadata": {
        "id": "pL7WtAS3qGxN"
      },
      "source": [
        "<div>\n",
        "<img src=\"תמונות/aaa.PNG\" width=\"700\"/>\n",
        "</div>"
      ],
      "execution_count": null,
      "outputs": []
    },
    {
      "cell_type": "code",
      "metadata": {
        "id": "K3K3RurMYxCQ"
      },
      "source": [
        "import Pillow as Image\n",
        "myImage = Image.open(\"https://drive.google.com/drive/u/0/my-drive\")\n",
        "myImage.show()\n"
      ],
      "execution_count": null,
      "outputs": []
    },
    {
      "cell_type": "markdown",
      "metadata": {
        "id": "zK80H1M6Ge5n"
      },
      "source": [
        "גרף של ישראל, מדינה שמקצה המון משאבים ללוחמה בטרור ולבטחון בגלל איומים קיומיים תמידים - אך מצד שני, יש לשים לב לפרופורציה בין זה לבין הצורך בהשקעה בתשתיות ובהכוונה וליווי נפשיים - כיוון שבמקרים אלו האבידות גדולות."
      ]
    },
    {
      "cell_type": "code",
      "metadata": {
        "colab": {
          "base_uri": "https://localhost:8080/",
          "height": 406
        },
        "id": "_Se3Iz44cFeU",
        "outputId": "ed9e34b9-682e-46e7-d2cc-14fbacf070a4"
      },
      "source": [
        "israel_ter = doc.loc[2927:2954,['Year','Terrorism','Road injuries', 'Self-harm','Drug use disorders']]\n",
        "table2 = israel_ter.pivot_table(index='Year') \n",
        "table2.plot.line(figsize=(12,6))\n"
      ],
      "execution_count": null,
      "outputs": [
        {
          "output_type": "execute_result",
          "data": {
            "text/plain": [
              "<matplotlib.axes._subplots.AxesSubplot at 0x1ce0055d250>"
            ]
          },
          "metadata": {
            "tags": []
          },
          "execution_count": 7
        },
        {
          "output_type": "display_data",
          "data": {
            "image/png": "[encoded data removed]",
            "text/plain": [
              "<Figure size 864x432 with 1 Axes>"
            ]
          },
          "metadata": {
            "tags": [],
            "needs_background": "light"
          }
        }
      ]
    },
    {
      "cell_type": "code",
      "metadata": {
        "colab": {
          "base_uri": "https://localhost:8080/",
          "height": 372
        },
        "id": "e-u9Dr4Efh3L",
        "outputId": "fb934cae-fe72-4140-dea2-c99dc14a9926"
      },
      "source": [
        "features = ['Terrorism','Road injuries', 'Self-harm']#,'Drug use disorders']\n",
        "correlation_matrix = table2[features].corr().round(2)\n",
        "correlation_matrix1 = doc[features].corr().round(2)\n",
        "fig, (ax1, ax2) = plt.subplots(1,2)\n",
        "mapp = sns.heatmap(data=correlation_matrix,cmap='Blues', annot=True, ax=ax1)\n",
        "plt.title('combine the correlation between israel and the world', fontsize = 15)\n",
        "mapp2 = sns.heatmap(data=correlation_matrix1,cmap='Greens', annot=True, ax=ax2)\n",
        "plt.show()"
      ],
      "execution_count": null,
      "outputs": [
        {
          "output_type": "display_data",
          "data": {
            "image/png": "[encoded data removed]",
            "text/plain": [
              "<Figure size 432x288 with 4 Axes>"
            ]
          },
          "metadata": {
            "tags": [],
            "needs_background": "light"
          }
        }
      ]
    },
    {
      "cell_type": "markdown",
      "metadata": {
        "id": "aYD1LWkxQqps"
      },
      "source": [
        "קורלציה בכל מדינות העולם בין: סמים, אלימות בין אישית, בעיות בלידה\n",
        "קורלציה נמוכה בין סמים לבעיות בלידה@\n",
        "גבוהה בין סמים ואלימות בין אישית - לתאונות דרכים@\n",
        "יחסית זהה בין אלימות ובעיות בלידה, ואלימות וסמים@"
      ]
    },
    {
      "cell_type": "code",
      "metadata": {
        "id": "792eClYGH-ag"
      },
      "source": [
        "#features = ['Interpersonal violence','Drug use disorders', 'Maternal disorders', 'Road injuries']\n",
        "#correlation_matrix = doc[features].corr().round(2)\n",
        "#correlation_matrix\n",
        "#sns.heatmap(data=correlation_matrix,cmap='Blues', annot=True)"
      ],
      "execution_count": null,
      "outputs": []
    },
    {
      "cell_type": "markdown",
      "metadata": {
        "id": "RcW1DQr9OTMg"
      },
      "source": [
        "קורלציה בכל העולם בין סוגי מחלות מעיים שונות\n",
        "הכל די גבוה, אבל הכי גבוה זה תזונה ושלשול\n",
        "@ואחריו זיהום ושלשול"
      ]
    },
    {
      "cell_type": "code",
      "metadata": {
        "colab": {
          "base_uri": "https://localhost:8080/",
          "height": 421
        },
        "id": "Z4GmFqduNjBx",
        "outputId": "f8be3ec8-f04e-4e16-ff0d-06d350cd9792"
      },
      "source": [
        "features2 = ['Digestive diseases', 'Nutritional deficiencies', 'Diarrheal disease', 'Intestinal infectious diseases']\n",
        "correlation_matrix = doc[features2].corr().round(2)\n",
        "correlation_matrix\n",
        "sns.heatmap(data=correlation_matrix, annot=True)"
      ],
      "execution_count": null,
      "outputs": [
        {
          "output_type": "execute_result",
          "data": {
            "text/plain": [
              "<matplotlib.axes._subplots.AxesSubplot at 0x1ce012bfee0>"
            ]
          },
          "metadata": {
            "tags": []
          },
          "execution_count": 51
        },
        {
          "output_type": "display_data",
          "data": {
            "image/png": "[encoded data removed]",
            "text/plain": [
              "<Figure size 432x288 with 2 Axes>"
            ]
          },
          "metadata": {
            "tags": [],
            "needs_background": "light"
          }
        }
      ]
    },
    {
      "cell_type": "code",
      "metadata": {
        "id": "n_0QzKkbUR1I"
      },
      "source": [
        "lebanon = doc.loc[3310:3337, ['Entity','Year','Drug use disorders', 'Road injuries','Drowning']]\n",
        "lebanon\n",
        "features = ['Drowning','Road injuries']\n",
        "X = lebanon[features]\n",
        "y = lebanon['Drug use disorders']\n",
        "X_train, X_test, y_train, y_test = sk.model_selection.train_test_split(X, y, test_size=0.3, random_state=1) \n",
        "model = sk.tree.DecisionTreeRegressor(random_state=1)\n",
        "model.fit(X_train,y_train)\n",
        "print(\"Making predictions for Drug use disorders:\")\n",
        "prediction=pd.DataFrame(y_test)\n",
        "prediction.head(4)"
      ],
      "execution_count": null,
      "outputs": []
    },
    {
      "cell_type": "code",
      "metadata": {
        "id": "tN-DC54Nj9si"
      },
      "source": [
        "def eval(x,y,model):                  \n",
        "    pred = model.predict(x)\n",
        "    y_alt=y.values\n",
        "    print(\"MSE: {:.3f}\".format(mse(pred,y,squared=False)))\n",
        "\n",
        "eval(X_test,y_test,model)"
      ],
      "execution_count": null,
      "outputs": []
    },
    {
      "cell_type": "code",
      "metadata": {
        "colab": {
          "base_uri": "https://localhost:8080/",
          "height": 35
        },
        "id": "dxuLZSy-Tn-5",
        "outputId": "027cb985-8c05-4d02-88e5-ea6d93bac673"
      },
      "source": [
        "import plotly.graph_objs as gobj\n",
        "from IPython.display import HTML\n",
        "import plotly.offline as py\n",
        "\n",
        "from plotly.offline import download_plotlyjs, init_notebook_mode, plot, iplot\n",
        "init_notebook_mode(connected=True)\n",
        "import os\n",
        "\n",
        "\n",
        "year17 = doc.loc[2004 == doc['Year']]\n",
        "\n",
        "data = dict(\n",
        "    type = 'choropleth', \n",
        "    locations = year17['Entity'],\n",
        "    locationmode = 'country names', \n",
        "    colorscale = [[0,\"rgb(255, 60, 20)\"],[0.25,\"rgb(255, 100, 20)\"],[0.5,\"rgb(255, 140, 20)\"]],\n",
        "    text =  year17['Entity'], \n",
        "    z = year17['Malaria'], \n",
        "    colorbar = {'title':'malaria in the world'}\n",
        ")\n",
        "\n",
        "layout = dict(geo = dict(scope ='world'))\n",
        "choromap = gobj.Figure(data = [data],layout=layout)\n",
        "plot(choromap)\n",
        "from IPython.display import HTML\n",
        "\n",
        "HTML('<iframe src=temp-plot.html width=700 height=450></.iframe>')"
      ],
      "execution_count": null,
      "outputs": [
        {
          "output_type": "display_data",
          "data": {
            "text/html": [
              "        <script type=\"text/javascript\">\n",
              "        window.PlotlyConfig = {MathJaxConfig: 'local'};\n",
              "        if (window.MathJax) {MathJax.Hub.Config({SVG: {font: \"STIX-Web\"}});}\n",
              "        if (typeof require !== 'undefined') {\n",
              "        require.undef(\"plotly\");\n",
              "        requirejs.config({\n",
              "            paths: {\n",
              "                'plotly': ['https://cdn.plot.ly/plotly-latest.min']\n",
              "            }\n",
              "        });\n",
              "        require(['plotly'], function(Plotly) {\n",
              "            window._Plotly = Plotly;\n",
              "        });\n",
              "        }\n",
              "        </script>\n",
              "        "
            ]
          },
          "metadata": {
            "tags": []
          }
        },
        {
          "output_type": "execute_result",
          "data": {
            "text/html": [
              "<iframe src=temp-plot.html width=700 height=450></.iframe>"
            ],
            "text/plain": [
              "<IPython.core.display.HTML object>"
            ]
          },
          "metadata": {
            "tags": []
          },
          "execution_count": 67
        }
      ]
    },
    {
      "cell_type": "code",
      "metadata": {
        "id": "-ok-ZUUhehEb",
        "outputId": "cc09e476-4ee3-4a6a-85c9-d45238f9b78c"
      },
      "source": [
        "year17 = doc.loc[2004 == doc['Year']]\n",
        "\n",
        "data = dict(\n",
        "    type = 'choropleth', \n",
        "    locations = year17['Entity'],\n",
        "    locationmode = 'country names', \n",
        "    colorscale = [[0,\"rgb(255, 60, 20)\"],[0.25,\"rgb(255, 100, 20)\"],[0.5,\"rgb(255, 140, 20)\"]],\n",
        "    text =  year17['Entity'], \n",
        "    z = year17['Malaria'], \n",
        "    colorbar = {'title':'malaria in africa'}\n",
        ")\n",
        "\n",
        "layout = dict(geo = dict(scope ='africa'))\n",
        "choromap = gobj.Figure(data = [data],layout=layout)\n",
        "plot(choromap)\n",
        "\n",
        "\n",
        "HTML('<iframe src=temp-plot.html width=700 height=450></.iframe>')"
      ],
      "execution_count": null,
      "outputs": [
        {
          "output_type": "execute_result",
          "data": {
            "text/html": [
              "<iframe src=temp-plot.html width=700 height=450></.iframe>"
            ],
            "text/plain": [
              "<IPython.core.display.HTML object>"
            ]
          },
          "metadata": {
            "tags": []
          },
          "execution_count": 68
        }
      ]
    },
    {
      "cell_type": "code",
      "metadata": {
        "id": "ucJwje5zehEc"
      },
      "source": [
        ""
      ],
      "execution_count": null,
      "outputs": []
    }
  ]
}